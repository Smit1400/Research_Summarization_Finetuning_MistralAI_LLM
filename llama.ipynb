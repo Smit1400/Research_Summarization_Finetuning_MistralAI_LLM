{
 "cells": [
  {
   "cell_type": "code",
   "execution_count": 13,
   "metadata": {},
   "outputs": [],
   "source": [
    "import nest_asyncio\n",
    "\n",
    "nest_asyncio.apply()\n"
   ]
  },
  {
   "cell_type": "code",
   "execution_count": 14,
   "metadata": {},
   "outputs": [],
   "source": [
    "from llama_index import SimpleDirectoryReader, ServiceContext, VectorStoreIndex\n",
    "from llama_index.llms import OpenAI\n",
    "\n",
    "from llama_index.tools import QueryEngineTool, ToolMetadata\n",
    "from llama_index.query_engine import SubQuestionQueryEngine"
   ]
  },
  {
   "cell_type": "code",
   "execution_count": 16,
   "metadata": {},
   "outputs": [],
   "source": [
    "lyft_docs = SimpleDirectoryReader(\n",
    "    input_files=[\"research_papers/1.pdf\"]\n",
    ").load_data()\n",
    "uber_docs = SimpleDirectoryReader(\n",
    "    input_files=[\"research_papers/2.pdf\"]\n",
    ").load_data()"
   ]
  },
  {
   "cell_type": "code",
   "execution_count": 17,
   "metadata": {},
   "outputs": [],
   "source": [
    "lyft_index = VectorStoreIndex.from_documents(lyft_docs)"
   ]
  },
  {
   "cell_type": "code",
   "execution_count": 18,
   "metadata": {},
   "outputs": [],
   "source": [
    "uber_index = VectorStoreIndex.from_documents(uber_docs)"
   ]
  },
  {
   "cell_type": "code",
   "execution_count": 19,
   "metadata": {},
   "outputs": [],
   "source": [
    "lyft_engine = lyft_index.as_query_engine(similarity_top_k=3)"
   ]
  },
  {
   "cell_type": "code",
   "execution_count": 20,
   "metadata": {},
   "outputs": [],
   "source": [
    "uber_engine = uber_index.as_query_engine(similarity_top_k=3)"
   ]
  },
  {
   "cell_type": "code",
   "execution_count": 23,
   "metadata": {},
   "outputs": [],
   "source": [
    "query_engine_tools = [\n",
    "    QueryEngineTool(\n",
    "        query_engine=lyft_engine,\n",
    "        metadata=ToolMetadata(\n",
    "            name=\"text_summarizarion\",\n",
    "            description=(\n",
    "                \"Provides information about research paper on text summarization\"\n",
    "            ),\n",
    "        ),\n",
    "    ),\n",
    "    QueryEngineTool(\n",
    "        query_engine=uber_engine,\n",
    "        metadata=ToolMetadata(\n",
    "            name=\"deep_blue\",\n",
    "            description=(\n",
    "                \"Provides information about deep blue computer chess system\"\n",
    "            ),\n",
    "        ),\n",
    "    ),\n",
    "]\n",
    "\n",
    "s_engine = SubQuestionQueryEngine.from_defaults(\n",
    "    query_engine_tools=query_engine_tools\n",
    ")"
   ]
  },
  {
   "cell_type": "code",
   "execution_count": 29,
   "metadata": {},
   "outputs": [
    {
     "name": "stdout",
     "output_type": "stream",
     "text": [
      "Generated 6 sub questions.\n",
      "\u001b[1;3;38;2;237;90;200m[text_summarizarion] Q: What are the key findings of the research paper on text summarization?\n",
      "\u001b[0m\u001b[1;3;38;2;90;149;237m[text_summarizarion] Q: What is the methodology used in the research paper on text summarization?\n",
      "\u001b[0m\u001b[1;3;38;2;11;159;203m[text_summarizarion] Q: What are the advantages of using text summarization techniques?\n",
      "\u001b[0m\u001b[1;3;38;2;155;135;227m[deep_blue] Q: What is the history of the deep blue computer chess system?\n",
      "\u001b[0m\u001b[1;3;38;2;237;90;200m[deep_blue] Q: What are the key features of the deep blue computer chess system?\n",
      "\u001b[0m\u001b[1;3;38;2;90;149;237m[deep_blue] Q: How does the deep blue computer chess system work?\n",
      "\u001b[0mINFO:openai:message='OpenAI API response' path=https://api.openai.com/v1/embeddings processing_ms=16 request_id=bb51e5620db577bd006fe66c7f6c9f46 response_code=200\n",
      "message='OpenAI API response' path=https://api.openai.com/v1/embeddings processing_ms=16 request_id=bb51e5620db577bd006fe66c7f6c9f46 response_code=200\n",
      "INFO:openai:message='OpenAI API response' path=https://api.openai.com/v1/embeddings processing_ms=23 request_id=13a62c271418cc28188a395fddd9174f response_code=200\n",
      "message='OpenAI API response' path=https://api.openai.com/v1/embeddings processing_ms=23 request_id=13a62c271418cc28188a395fddd9174f response_code=200\n",
      "INFO:openai:message='OpenAI API response' path=https://api.openai.com/v1/embeddings processing_ms=17 request_id=7bcb60ce24daa18df4e0219b90d25740 response_code=200\n",
      "message='OpenAI API response' path=https://api.openai.com/v1/embeddings processing_ms=17 request_id=7bcb60ce24daa18df4e0219b90d25740 response_code=200\n",
      "INFO:openai:message='OpenAI API response' path=https://api.openai.com/v1/embeddings processing_ms=18 request_id=a66e53d35574ad2540dff31d6fba7789 response_code=200\n",
      "message='OpenAI API response' path=https://api.openai.com/v1/embeddings processing_ms=18 request_id=a66e53d35574ad2540dff31d6fba7789 response_code=200\n",
      "INFO:openai:message='OpenAI API response' path=https://api.openai.com/v1/embeddings processing_ms=23 request_id=32bc09de18b3ff4a5368410aa66caad5 response_code=200\n",
      "message='OpenAI API response' path=https://api.openai.com/v1/embeddings processing_ms=23 request_id=32bc09de18b3ff4a5368410aa66caad5 response_code=200\n",
      "INFO:openai:message='OpenAI API response' path=https://api.openai.com/v1/embeddings processing_ms=23 request_id=e36f1caace5450a37bda1a40e7d1eef4 response_code=200\n",
      "message='OpenAI API response' path=https://api.openai.com/v1/embeddings processing_ms=23 request_id=e36f1caace5450a37bda1a40e7d1eef4 response_code=200\n",
      "INFO:openai:message='OpenAI API response' path=https://api.openai.com/v1/chat/completions processing_ms=8963 request_id=ba9828dfc0b9b40fcce4a13d9a6b2b4c response_code=200\n",
      "message='OpenAI API response' path=https://api.openai.com/v1/chat/completions processing_ms=8963 request_id=ba9828dfc0b9b40fcce4a13d9a6b2b4c response_code=200\n",
      "\u001b[1;3;38;2;237;90;200m[deep_blue] A: The key features of the Deep Blue computer chess system include a single-chip chess search engine, a massively parallel system with multiple levels of parallelism, a strong emphasis on search extensions, a complex evaluation function, and effective use of a Grandmaster game database.\n",
      "\u001b[0mINFO:openai:message='OpenAI API response' path=https://api.openai.com/v1/chat/completions processing_ms=9263 request_id=17d30cc813f7edf0adddc74282cf5e57 response_code=200\n",
      "message='OpenAI API response' path=https://api.openai.com/v1/chat/completions processing_ms=9263 request_id=17d30cc813f7edf0adddc74282cf5e57 response_code=200\n",
      "\u001b[1;3;38;2;90;149;237m[text_summarizarion] A: The research paper on text summarization uses a methodology called Attentional Encoder-Decoder Recurrent Neural Networks. This methodology involves mapping an input sequence of words in a source document to a target sequence of words called a summary. The paper also proposes several novel models that address specific problems in summarization, such as modeling keywords, capturing the hierarchy of sentence-to-word structure, and emitting rare or unseen words at training time. The researchers show that their proposed models contribute to further improvement in performance.\n",
      "\u001b[0mINFO:openai:message='OpenAI API response' path=https://api.openai.com/v1/chat/completions processing_ms=9483 request_id=46f5e04bfe56d5bbdd985608a23a090e response_code=200\n",
      "message='OpenAI API response' path=https://api.openai.com/v1/chat/completions processing_ms=9483 request_id=46f5e04bfe56d5bbdd985608a23a090e response_code=200\n",
      "\u001b[1;3;38;2;237;90;200m[text_summarizarion] A: The research paper on text summarization proposes several novel models that address critical problems in summarization, such as modeling key-words, capturing the hierarchy of sentence-to-word structure, and emitting words that are rare or unseen at training time. The paper shows that many of these proposed models contribute to further improvement in performance. Additionally, the paper introduces a new dataset consisting of multi-sentence summaries and establishes performance benchmarks for further research.\n",
      "\u001b[0mINFO:openai:message='OpenAI API response' path=https://api.openai.com/v1/chat/completions processing_ms=15999 request_id=71e2439aa198d0ca18a0cc20b24b5818 response_code=200\n",
      "message='OpenAI API response' path=https://api.openai.com/v1/chat/completions processing_ms=15999 request_id=71e2439aa198d0ca18a0cc20b24b5818 response_code=200\n",
      "\u001b[1;3;38;2;155;135;227m[deep_blue] A: The Deep Blue computer chess system was developed at IBM Research during the mid-1990s. It was the culmination of a multi-year effort to build a world-class chess machine. There were several versions of Deep Blue, with the first version, Deep Blue I, being based on a single-chip chess search engine. Deep Blue I played a match against Garry Kasparov in 1996, which Kasparov won. After analyzing the deficiencies of Deep Blue I, a series of changes were made to prepare for a rematch in 1997. This new version, Deep Blue II, featured a significantly enhanced chess chip with a redesigned evaluation function and other improvements. Deep Blue II defeated Garry Kasparov in the 1997 match, winning by a score of 3.5-2.5.\n",
      "\u001b[0mINFO:openai:message='OpenAI API response' path=https://api.openai.com/v1/chat/completions processing_ms=16202 request_id=9fe631de42b733ca593dd2d71139d474 response_code=200\n",
      "message='OpenAI API response' path=https://api.openai.com/v1/chat/completions processing_ms=16202 request_id=9fe631de42b733ca593dd2d71139d474 response_code=200\n",
      "\u001b[1;3;38;2;11;159;203m[text_summarizarion] A: Text summarization techniques have several advantages. Firstly, they allow for the generation of concise summaries that capture the main ideas of a document or article. This can be particularly useful when dealing with large amounts of text, as it enables users to quickly grasp the key points without having to read the entire document. Additionally, text summarization techniques can help in compressing the original document in a lossy manner, preserving the key concepts while reducing the overall length. This can be especially beneficial in scenarios where space is limited or when users are looking for a quick overview of the content. Furthermore, text summarization techniques can be applied to various natural language processing tasks, such as machine translation, speech recognition, and video captioning, enhancing the performance and accuracy of these systems. Overall, text summarization techniques offer a valuable tool for information retrieval and comprehension, saving time and effort for users.\n",
      "\u001b[0mINFO:openai:message='OpenAI API response' path=https://api.openai.com/v1/chat/completions processing_ms=24503 request_id=06570091d6259491224f00c6754a1687 response_code=200\n",
      "message='OpenAI API response' path=https://api.openai.com/v1/chat/completions processing_ms=24503 request_id=06570091d6259491224f00c6754a1687 response_code=200\n",
      "\u001b[1;3;38;2;90;149;237m[deep_blue] A: The Deep Blue computer chess system is a massively parallel system designed for carrying out chess game tree searches. It consists of a 30-node IBM RS/6000 SP computer and 480 single-chip chess search engines. The system is organized in three layers, with one node designated as the master and the rest as workers. The master searches the top levels of the chess game tree and distributes \"leaf\" positions to the workers for further examination. The workers carry out a few levels of additional search and then distribute their leaf positions to the chess chips, which search the last few levels of the tree. The overall system speed varies depending on the specific characteristics of the positions being searched, but it can search up to 330 million positions per second. The system relies on various techniques developed in earlier chess programs, such as quiescence search, iterative deepening, transposition tables, and NegaScout. The Deep Blue chess chips are capable of searching 2 to 2.5 million chess positions per second and communicate with their host node via a microchannel bus. The move generator in the Deep Blue chip is based on the Deep Thought move generator and is implemented as an 8x8 array of combinatorial logic.\n",
      "\u001b[0m"
     ]
    }
   ],
   "source": [
    "response = s_engine.query(\n",
    "    \"Summarize both the research paper about text summarizationa and deep blue\"\n",
    ")"
   ]
  },
  {
   "cell_type": "code",
   "execution_count": 30,
   "metadata": {},
   "outputs": [
    {
     "name": "stdout",
     "output_type": "stream",
     "text": [
      "The research paper on text summarization proposes novel models that address key problems in summarization, such as modeling keywords, capturing sentence-to-word structure, and emitting rare words. The paper introduces a new dataset and establishes performance benchmarks. On the other hand, the Deep Blue computer chess system was developed by IBM Research in the mid-1990s. It went through multiple versions and featured a single-chip chess search engine, parallel processing, search extensions, a complex evaluation function, and effective use of a Grandmaster game database. The system worked by carrying out chess game tree searches using a combination of master and worker nodes, chess chips, and various techniques from earlier chess programs.\n"
     ]
    }
   ],
   "source": [
    "print(str(response))"
   ]
  },
  {
   "cell_type": "code",
   "execution_count": null,
   "metadata": {},
   "outputs": [],
   "source": []
  }
 ],
 "metadata": {
  "kernelspec": {
   "display_name": "venv",
   "language": "python",
   "name": "python3"
  },
  "language_info": {
   "codemirror_mode": {
    "name": "ipython",
    "version": 3
   },
   "file_extension": ".py",
   "mimetype": "text/x-python",
   "name": "python",
   "nbconvert_exporter": "python",
   "pygments_lexer": "ipython3",
   "version": "3.10.8"
  }
 },
 "nbformat": 4,
 "nbformat_minor": 2
}
